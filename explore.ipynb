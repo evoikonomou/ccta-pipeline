{
 "cells": [
  {
   "cell_type": "code",
   "execution_count": null,
   "id": "85e2174c",
   "metadata": {},
   "outputs": [],
   "source": [
    "import pandas as pd\n",
    "# load /home/eo287/mnt/s3_ccta/summaries/ccta_series_headers_only_E100138698.csv\n",
    "df = pd.read_csv('/home/eo287/mnt/s3_ccta/summaries/ccta_series_headers_only_E***.csv')\n",
    "print(df.head())"
   ]
  },
  {
   "cell_type": "code",
   "execution_count": null,
   "id": "fdee913d",
   "metadata": {},
   "outputs": [],
   "source": [
    "df.columns.to_list()"
   ]
  },
  {
   "cell_type": "code",
   "execution_count": null,
   "id": "25bd7001",
   "metadata": {},
   "outputs": [],
   "source": [
    "#ImageType (0008,0008)\n",
    "print(df['ImageType'].value_counts())"
   ]
  },
  {
   "cell_type": "code",
   "execution_count": null,
   "id": "49d76a14",
   "metadata": {},
   "outputs": [],
   "source": [
    "# show all columsn\n",
    "pd.set_option('display.max_columns', None)\n",
    "df"
   ]
  },
  {
   "cell_type": "code",
   "execution_count": null,
   "id": "8014707d",
   "metadata": {},
   "outputs": [],
   "source": [
    "# SliceThickness\n",
    "print(df['SliceThickness'].value_counts())"
   ]
  },
  {
   "cell_type": "code",
   "execution_count": null,
   "id": "623249e0",
   "metadata": {},
   "outputs": [],
   "source": [
    "# keep if slie thickness is < 1\n",
    "df = df[df['SliceThickness'] < 1]\n",
    "# keep if ContrastBolusAgent is not null\n",
    "df = df[df['ContrastBolusAgent'].notnull()]\n",
    "# SpacingBetweenSlices > 0\n",
    "df = df[df['SpacingBetweenSlices'] > 0]"
   ]
  },
  {
   "cell_type": "code",
   "execution_count": null,
   "id": "8d618be4",
   "metadata": {},
   "outputs": [],
   "source": [
    "#ContrastBolusAgent\n",
    "print(df['ContrastBolusAgent'].value_counts())"
   ]
  },
  {
   "cell_type": "code",
   "execution_count": null,
   "id": "99c0af4e",
   "metadata": {},
   "outputs": [],
   "source": [
    "#XRayTubeCurrent\n",
    "print(df['XRayTubeCurrent'].value_counts())"
   ]
  },
  {
   "cell_type": "code",
   "execution_count": null,
   "id": "1e94212c",
   "metadata": {},
   "outputs": [],
   "source": [
    "#KVP\n",
    "print(df['KVP'].value_counts())"
   ]
  },
  {
   "cell_type": "code",
   "execution_count": null,
   "id": "a7b99b38",
   "metadata": {},
   "outputs": [],
   "source": [
    "df[\"RepresentativeFile\"].iloc[0]"
   ]
  },
  {
   "cell_type": "code",
   "execution_count": null,
   "id": "639db3cf",
   "metadata": {},
   "outputs": [],
   "source": [
    "df[\"SeriesInstanceUID\"].iloc[0]"
   ]
  },
  {
   "cell_type": "code",
   "execution_count": null,
   "id": "cf000089",
   "metadata": {},
   "outputs": [],
   "source": [
    "import os\n",
    "import SimpleITK as sitk\n",
    "import matplotlib.pyplot as plt\n",
    "\n",
    "# ----------------------------\n",
    "# CONFIG: point to any one DICOM file from the series\n",
    "# ----------------------------\n",
    "example_file = df[\"RepresentativeFile\"].iloc[0]\n",
    "\n",
    "# ----------------------------\n",
    "# Helper: read DICOM header (no pixels) with SimpleITK\n",
    "# ----------------------------\n",
    "def read_dicom_header_only(dcm_path: str, load_private: bool = True) -> dict:\n",
    "    rdr = sitk.ImageFileReader()\n",
    "    rdr.SetFileName(dcm_path)\n",
    "    # ReadImageInformation() parses header only\n",
    "    rdr.ReadImageInformation()\n",
    "    # enable reading of private tags if requested (supported by GDCM backend inside ITK)\n",
    "    if load_private:\n",
    "        try:\n",
    "            rdr.LoadPrivateTagsOn()\n",
    "        except Exception:\n",
    "            pass  # older ITK/SimpleITK may already expose private tags\n",
    "    meta = {}\n",
    "    for k in rdr.GetMetaDataKeys():\n",
    "        try:\n",
    "            meta[k] = rdr.GetMetaData(k)\n",
    "        except Exception:\n",
    "            meta[k] = \"<unreadable>\"\n",
    "    return meta\n",
    "\n",
    "# ----------------------------\n",
    "# Helper: get SeriesInstanceUID of a given file (via header-only read)\n",
    "# ----------------------------\n",
    "def get_series_uid(dcm_path: str) -> str:\n",
    "    meta = read_dicom_header_only(dcm_path, load_private=True)\n",
    "    # DICOM tag (0020,000E) = Series Instance UID\n",
    "    # SimpleITK exposes as \"0020|000e\" (case-insensitive)\n",
    "    for key in (\"0020|000e\", \"0020|000E\"):\n",
    "        if key in meta:\n",
    "            return meta[key]\n",
    "    raise RuntimeError(f\"SeriesInstanceUID not found in {dcm_path}\")\n",
    "\n",
    "# ----------------------------\n",
    "# Given example file, resolve its series directory and UID\n",
    "# ----------------------------\n",
    "series_dir = os.path.dirname(example_file)\n",
    "series_uid = get_series_uid(example_file)\n",
    "print(\"SeriesInstanceUID:\", series_uid)\n",
    "print(\"Series directory :\", series_dir)\n",
    "\n",
    "# ----------------------------\n",
    "# Find all series in directory; if not found, try parent\n",
    "# ----------------------------\n",
    "r = sitk.ImageSeriesReader()\n",
    "uids_here = r.GetGDCMSeriesIDs(series_dir) or []\n",
    "if series_uid not in uids_here:\n",
    "    parent = os.path.dirname(series_dir)\n",
    "    uids_parent = r.GetGDCMSeriesIDs(parent) or []\n",
    "    if series_uid in uids_parent:\n",
    "        series_dir = parent\n",
    "        print(\"Target series found in parent dir:\", series_dir)\n",
    "    else:\n",
    "        raise RuntimeError(f\"Target UID not found.\\n Here: {uids_here}\\n Parent: {uids_parent}\")\n",
    "\n",
    "# ----------------------------\n",
    "# Get the file list (sorted) for that series and load volume\n",
    "# ----------------------------\n",
    "file_list = r.GetGDCMSeriesFileNames(series_dir, series_uid)\n",
    "print(f\"Found {len(file_list)} slices in series.\")\n",
    "\n",
    "r.SetFileNames(file_list)\n",
    "# Optional: these controls help expose per-file metadata into the reader if needed\n",
    "r.MetaDataDictionaryArrayUpdateOn()\n",
    "r.LoadPrivateTagsOn()\n",
    "\n",
    "img = r.Execute()  # SimpleITK Image: 3D (z,y,x) for a classic CT series, or multi-frame handled internally\n",
    "arr = sitk.GetArrayFromImage(img)  # numpy array: shape (slices, H, W)\n",
    "\n",
    "print(\"Volume shape (z, y, x):\", arr.shape)\n",
    "print(\"Voxel spacing (x, y, z) [mm]:\", img.GetSpacing())\n",
    "print(\"Origin (x, y, z):\", img.GetOrigin())\n",
    "print(\"Direction (3x3, flattened):\", img.GetDirection())\n",
    "\n",
    "# ----------------------------\n",
    "# Print key series headers from the first slice file (no external deps)\n",
    "# ----------------------------\n",
    "rep_meta = read_dicom_header_only(file_list[0], load_private=True)\n",
    "def get(meta, tag_hex, default=\"NA\"):\n",
    "    # tag_hex like \"0008|103E\" (SeriesDescription)\n",
    "    return meta.get(tag_hex, default)\n",
    "\n",
    "print(\"\\n--- Series header (selected tags from first file) ---\")\n",
    "print(\"SeriesDescription (0008,103E):\", get(rep_meta, \"0008|103e\"))\n",
    "print(\"ProtocolName    (0018,1030):\", get(rep_meta, \"0018|1030\"))\n",
    "print(\"ImageType       (0008,0008):\", get(rep_meta, \"0008|0008\"))\n",
    "print(\"SliceThickness  (0018,0050):\", get(rep_meta, \"0018|0050\"))\n",
    "print(\"PixelSpacing    (0028,0030):\", get(rep_meta, \"0028|0030\"))\n",
    "print(\"ConvolutionKernel (0018,1210):\", get(rep_meta, \"0018|1210\"))\n",
    "print(\"ContrastBolusAgent (0018,0010):\", get(rep_meta, \"0018|0010\"))\n",
    "print(\"KVP            (0018,0060):\", get(rep_meta, \"0018|0060\"))\n",
    "print(\"StudyDate      (0008,0020):\", get(rep_meta, \"0008|0020\"))\n",
    "print(\"SeriesDate     (0008,0021):\", get(rep_meta, \"0008|0021\"))\n",
    "print(\"AcqTime        (0008,0032):\", get(rep_meta, \"0008|0032\"))\n",
    "\n",
    "# If you want to inspect *all* tags for the representative file:\n",
    "# for k in sorted(rep_meta.keys()):\n",
    "#     print(k, \":\", rep_meta[k])\n",
    "\n",
    "# ----------------------------\n",
    "# Visualize a few slices\n",
    "# ----------------------------\n",
    "import math\n",
    "n = arr.shape[0]\n",
    "for idx in [0, n//3, n//2, (2*n)//3, n-1]:\n",
    "    plt.figure(figsize=(6,6))\n",
    "    plt.imshow(arr[idx], cmap=\"gray\")\n",
    "    plt.title(f\"Slice {idx+1}/{n}\")\n",
    "    plt.axis(\"off\")\n",
    "    plt.show()\n"
   ]
  },
  {
   "cell_type": "code",
   "execution_count": null,
   "id": "a7f9ba70",
   "metadata": {},
   "outputs": [],
   "source": []
  },
  {
   "cell_type": "code",
   "execution_count": null,
   "id": "8e315881",
   "metadata": {},
   "outputs": [],
   "source": [
    "import SimpleITK as sitk\n",
    "import matplotlib.pyplot as plt\n",
    "from tqdm import tqdm\n",
    "\n",
    "# You can limit to first N for sanity check, e.g. df.head(10)\n",
    "files = df[\"RepresentativeFile\"].tolist()\n",
    "\n",
    "print(f\"Rendering {len(files)} representative DICOMs...\")\n",
    "\n",
    "for path in tqdm(files):\n",
    "    try:\n",
    "        img = sitk.ReadImage(path)\n",
    "        arr = sitk.GetArrayFromImage(img)  # shape: (slices, height, width)\n",
    "        arr2d = arr[0] if arr.ndim == 3 else arr  # take first slice if 3D\n",
    "        plt.figure(figsize=(5, 5))\n",
    "        plt.imshow(arr2d, cmap=\"gray\")\n",
    "        plt.title(path.split('/')[-3])  # e.g. E100**** folder\n",
    "        plt.axis(\"off\")\n",
    "        plt.show()\n",
    "    except Exception as e:\n",
    "        print(f\"[WARN] Could not read {path}: {e}\")\n"
   ]
  }
 ],
 "metadata": {
  "kernelspec": {
   "display_name": "eo_ccta",
   "language": "python",
   "name": "python3"
  },
  "language_info": {
   "codemirror_mode": {
    "name": "ipython",
    "version": 3
   },
   "file_extension": ".py",
   "mimetype": "text/x-python",
   "name": "python",
   "nbconvert_exporter": "python",
   "pygments_lexer": "ipython3",
   "version": "3.11.14"
  }
 },
 "nbformat": 4,
 "nbformat_minor": 5
}
